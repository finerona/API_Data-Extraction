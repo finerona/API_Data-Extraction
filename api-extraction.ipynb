{
 "cells": [
  {
   "cell_type": "code",
   "execution_count": 1,
   "id": "ffa6090a-a1c9-49a0-93a3-eb1ed477fb28",
   "metadata": {},
   "outputs": [],
   "source": [
    "import pandas as pd ##import pandas\n",
    "import requests     ##import requests"
   ]
  },
  {
   "cell_type": "code",
   "execution_count": 7,
   "id": "91dc9737-1f6c-4d42-a1bd-cbf0fdcffc24",
   "metadata": {},
   "outputs": [],
   "source": [
    "resp = requests.get(\"https://v6.vbb.transport.rest/locations?query=berlin\") #get requests with url link without key"
   ]
  },
  {
   "cell_type": "raw",
   "id": "e50e905d-0e8f-4358-a596-9bd0ae513954",
   "metadata": {},
   "source": [
    "if resp.status_code == 200:     ##using if statement to check the status of the request\n",
    "    print('succesful')\n",
    "else:\n",
    "    print('your head is not correct')"
   ]
  },
  {
   "cell_type": "code",
   "execution_count": 16,
   "id": "9a1466c2-32d5-4ad8-b729-05609e247929",
   "metadata": {},
   "outputs": [
    {
     "data": {
      "text/plain": [
       "[{'type': 'stop',\n",
       "  'id': '900037168',\n",
       "  'name': 'Berlin, Albrechtshof Bhf',\n",
       "  'location': {'type': 'location',\n",
       "   'id': '900037168',\n",
       "   'latitude': 52.549339,\n",
       "   'longitude': 13.129159},\n",
       "  'products': {'suburban': False,\n",
       "   'subway': False,\n",
       "   'tram': False,\n",
       "   'bus': True,\n",
       "   'ferry': False,\n",
       "   'express': False,\n",
       "   'regional': True},\n",
       "  'stationDHID': 'de:11000:900037168'},\n",
       " {'type': 'stop',\n",
       "  'id': '900029305',\n",
       "  'name': 'Berlin, Staaken Bhf',\n",
       "  'location': {'type': 'location',\n",
       "   'id': '900029305',\n",
       "   'latitude': 52.537698,\n",
       "   'longitude': 13.142157},\n",
       "  'products': {'suburban': False,\n",
       "   'subway': False,\n",
       "   'tram': False,\n",
       "   'bus': True,\n",
       "   'ferry': False,\n",
       "   'express': False,\n",
       "   'regional': True},\n",
       "  'stationDHID': 'de:11000:900029305'},\n",
       " {'type': 'stop',\n",
       "  'id': '900180008',\n",
       "  'name': 'Bahnhofstr./Lindenstr. (Berlin)',\n",
       "  'location': {'type': 'location',\n",
       "   'id': '900180008',\n",
       "   'latitude': 52.450916,\n",
       "   'longitude': 13.572408},\n",
       "  'products': {'suburban': False,\n",
       "   'subway': False,\n",
       "   'tram': True,\n",
       "   'bus': True,\n",
       "   'ferry': False,\n",
       "   'express': False,\n",
       "   'regional': False},\n",
       "  'stationDHID': 'de:11000:900180008'},\n",
       " {'type': 'stop',\n",
       "  'id': '900180009',\n",
       "  'name': 'Bahnhofstr./Seelenbinderstr. (Berlin)',\n",
       "  'location': {'type': 'location',\n",
       "   'id': '900180009',\n",
       "   'latitude': 52.455761,\n",
       "   'longitude': 13.577118},\n",
       "  'products': {'suburban': False,\n",
       "   'subway': False,\n",
       "   'tram': True,\n",
       "   'bus': True,\n",
       "   'ferry': False,\n",
       "   'express': False,\n",
       "   'regional': False},\n",
       "  'stationDHID': 'de:11000:900180009'},\n",
       " {'type': 'stop',\n",
       "  'id': '900170011',\n",
       "  'name': 'Barnimplatz (Berlin)',\n",
       "  'location': {'type': 'location',\n",
       "   'id': '900170011',\n",
       "   'latitude': 52.567803,\n",
       "   'longitude': 13.573694},\n",
       "  'products': {'suburban': False,\n",
       "   'subway': False,\n",
       "   'tram': True,\n",
       "   'bus': True,\n",
       "   'ferry': False,\n",
       "   'express': False,\n",
       "   'regional': False},\n",
       "  'stationDHID': 'de:11000:900170011'},\n",
       " {'type': 'stop',\n",
       "  'id': '900170010',\n",
       "  'name': 'Betriebshof Marzahn (Berlin)',\n",
       "  'location': {'type': 'location',\n",
       "   'id': '900170010',\n",
       "   'latitude': 52.549006,\n",
       "   'longitude': 13.583717},\n",
       "  'products': {'suburban': False,\n",
       "   'subway': False,\n",
       "   'tram': True,\n",
       "   'bus': True,\n",
       "   'ferry': False,\n",
       "   'express': False,\n",
       "   'regional': False},\n",
       "  'stationDHID': 'de:11000:900170010'},\n",
       " {'type': 'stop',\n",
       "  'id': '900170524',\n",
       "  'name': 'Brodowiner Ring (Berlin)',\n",
       "  'location': {'type': 'location',\n",
       "   'id': '900170524',\n",
       "   'latitude': 52.54764,\n",
       "   'longitude': 13.578359},\n",
       "  'products': {'suburban': False,\n",
       "   'subway': False,\n",
       "   'tram': True,\n",
       "   'bus': True,\n",
       "   'ferry': False,\n",
       "   'express': False,\n",
       "   'regional': False},\n",
       "  'stationDHID': 'de:11000:900170524'},\n",
       " {'type': 'stop',\n",
       "  'id': '900171517',\n",
       "  'name': 'Boschpoler Str. (Berlin)',\n",
       "  'location': {'type': 'location',\n",
       "   'id': '900171517',\n",
       "   'latitude': 52.527504,\n",
       "   'longitude': 13.548811},\n",
       "  'products': {'suburban': False,\n",
       "   'subway': False,\n",
       "   'tram': True,\n",
       "   'bus': True,\n",
       "   'ferry': False,\n",
       "   'express': False,\n",
       "   'regional': False},\n",
       "  'stationDHID': 'de:11000:900171517'},\n",
       " {'type': 'stop',\n",
       "  'id': '900100041',\n",
       "  'name': 'Brunnenstr./Invalidenstr. (Berlin)',\n",
       "  'location': {'type': 'location',\n",
       "   'id': '900100041',\n",
       "   'latitude': 52.532601,\n",
       "   'longitude': 13.398889},\n",
       "  'products': {'suburban': False,\n",
       "   'subway': False,\n",
       "   'tram': True,\n",
       "   'bus': True,\n",
       "   'ferry': False,\n",
       "   'express': False,\n",
       "   'regional': False},\n",
       "  'stationDHID': 'de:11000:900100041'},\n",
       " {'type': 'stop',\n",
       "  'id': '900140506',\n",
       "  'name': 'Behaimstr. (Berlin)',\n",
       "  'location': {'type': 'location',\n",
       "   'id': '900140506',\n",
       "   'latitude': 52.54995,\n",
       "   'longitude': 13.44628},\n",
       "  'products': {'suburban': False,\n",
       "   'subway': False,\n",
       "   'tram': True,\n",
       "   'bus': False,\n",
       "   'ferry': False,\n",
       "   'express': False,\n",
       "   'regional': False},\n",
       "  'stationDHID': 'de:11000:900140506'}]"
      ]
     },
     "execution_count": 16,
     "metadata": {},
     "output_type": "execute_result"
    }
   ],
   "source": [
    "resp.json() ##opening the request as a json file"
   ]
  },
  {
   "cell_type": "code",
   "execution_count": 15,
   "id": "c68e5bab-5a5b-4845-a848-9ef9f7fa479b",
   "metadata": {},
   "outputs": [
    {
     "data": {
      "text/plain": [
       "'stop'"
      ]
     },
     "execution_count": 15,
     "metadata": {},
     "output_type": "execute_result"
    }
   ],
   "source": [
    "resp.json()[0]['type'] ## accessing the first list on the requests"
   ]
  },
  {
   "cell_type": "code",
   "execution_count": 17,
   "id": "c274aed4-1a7d-40aa-9712-2c89a535158e",
   "metadata": {},
   "outputs": [],
   "source": [
    "x = resp.json() ## assigning the request to a variable X"
   ]
  },
  {
   "cell_type": "code",
   "execution_count": 18,
   "id": "8ca2d610-3819-480f-8c91-5b95e0781183",
   "metadata": {},
   "outputs": [],
   "source": [
    "df = pd.DataFrame.from_records(x) #converting the list to a dataframe"
   ]
  },
  {
   "cell_type": "code",
   "execution_count": 19,
   "id": "5ae8f0a3-967e-4710-9e33-fa11dd833fe0",
   "metadata": {},
   "outputs": [
    {
     "data": {
      "text/html": [
       "<div>\n",
       "<style scoped>\n",
       "    .dataframe tbody tr th:only-of-type {\n",
       "        vertical-align: middle;\n",
       "    }\n",
       "\n",
       "    .dataframe tbody tr th {\n",
       "        vertical-align: top;\n",
       "    }\n",
       "\n",
       "    .dataframe thead th {\n",
       "        text-align: right;\n",
       "    }\n",
       "</style>\n",
       "<table border=\"1\" class=\"dataframe\">\n",
       "  <thead>\n",
       "    <tr style=\"text-align: right;\">\n",
       "      <th></th>\n",
       "      <th>type</th>\n",
       "      <th>id</th>\n",
       "      <th>name</th>\n",
       "      <th>location</th>\n",
       "      <th>products</th>\n",
       "      <th>stationDHID</th>\n",
       "    </tr>\n",
       "  </thead>\n",
       "  <tbody>\n",
       "    <tr>\n",
       "      <th>0</th>\n",
       "      <td>stop</td>\n",
       "      <td>900037168</td>\n",
       "      <td>Berlin, Albrechtshof Bhf</td>\n",
       "      <td>{'type': 'location', 'id': '900037168', 'latit...</td>\n",
       "      <td>{'suburban': False, 'subway': False, 'tram': F...</td>\n",
       "      <td>de:11000:900037168</td>\n",
       "    </tr>\n",
       "    <tr>\n",
       "      <th>1</th>\n",
       "      <td>stop</td>\n",
       "      <td>900029305</td>\n",
       "      <td>Berlin, Staaken Bhf</td>\n",
       "      <td>{'type': 'location', 'id': '900029305', 'latit...</td>\n",
       "      <td>{'suburban': False, 'subway': False, 'tram': F...</td>\n",
       "      <td>de:11000:900029305</td>\n",
       "    </tr>\n",
       "    <tr>\n",
       "      <th>2</th>\n",
       "      <td>stop</td>\n",
       "      <td>900180008</td>\n",
       "      <td>Bahnhofstr./Lindenstr. (Berlin)</td>\n",
       "      <td>{'type': 'location', 'id': '900180008', 'latit...</td>\n",
       "      <td>{'suburban': False, 'subway': False, 'tram': T...</td>\n",
       "      <td>de:11000:900180008</td>\n",
       "    </tr>\n",
       "    <tr>\n",
       "      <th>3</th>\n",
       "      <td>stop</td>\n",
       "      <td>900180009</td>\n",
       "      <td>Bahnhofstr./Seelenbinderstr. (Berlin)</td>\n",
       "      <td>{'type': 'location', 'id': '900180009', 'latit...</td>\n",
       "      <td>{'suburban': False, 'subway': False, 'tram': T...</td>\n",
       "      <td>de:11000:900180009</td>\n",
       "    </tr>\n",
       "    <tr>\n",
       "      <th>4</th>\n",
       "      <td>stop</td>\n",
       "      <td>900170011</td>\n",
       "      <td>Barnimplatz (Berlin)</td>\n",
       "      <td>{'type': 'location', 'id': '900170011', 'latit...</td>\n",
       "      <td>{'suburban': False, 'subway': False, 'tram': T...</td>\n",
       "      <td>de:11000:900170011</td>\n",
       "    </tr>\n",
       "  </tbody>\n",
       "</table>\n",
       "</div>"
      ],
      "text/plain": [
       "   type         id                                   name  \\\n",
       "0  stop  900037168               Berlin, Albrechtshof Bhf   \n",
       "1  stop  900029305                    Berlin, Staaken Bhf   \n",
       "2  stop  900180008        Bahnhofstr./Lindenstr. (Berlin)   \n",
       "3  stop  900180009  Bahnhofstr./Seelenbinderstr. (Berlin)   \n",
       "4  stop  900170011                   Barnimplatz (Berlin)   \n",
       "\n",
       "                                            location  \\\n",
       "0  {'type': 'location', 'id': '900037168', 'latit...   \n",
       "1  {'type': 'location', 'id': '900029305', 'latit...   \n",
       "2  {'type': 'location', 'id': '900180008', 'latit...   \n",
       "3  {'type': 'location', 'id': '900180009', 'latit...   \n",
       "4  {'type': 'location', 'id': '900170011', 'latit...   \n",
       "\n",
       "                                            products         stationDHID  \n",
       "0  {'suburban': False, 'subway': False, 'tram': F...  de:11000:900037168  \n",
       "1  {'suburban': False, 'subway': False, 'tram': F...  de:11000:900029305  \n",
       "2  {'suburban': False, 'subway': False, 'tram': T...  de:11000:900180008  \n",
       "3  {'suburban': False, 'subway': False, 'tram': T...  de:11000:900180009  \n",
       "4  {'suburban': False, 'subway': False, 'tram': T...  de:11000:900170011  "
      ]
     },
     "execution_count": 19,
     "metadata": {},
     "output_type": "execute_result"
    }
   ],
   "source": [
    "df.head() "
   ]
  },
  {
   "cell_type": "code",
   "execution_count": 47,
   "id": "d2d14a89-d608-41a5-868d-126b66a57084",
   "metadata": {},
   "outputs": [],
   "source": [
    "newdf = df[['type','id','name','stationDHID']] #assigning the dataframe to newdf"
   ]
  },
  {
   "cell_type": "code",
   "execution_count": 48,
   "id": "9d3eb237-5bc4-48a2-a477-c9e7b5927346",
   "metadata": {},
   "outputs": [
    {
     "data": {
      "text/html": [
       "<div>\n",
       "<style scoped>\n",
       "    .dataframe tbody tr th:only-of-type {\n",
       "        vertical-align: middle;\n",
       "    }\n",
       "\n",
       "    .dataframe tbody tr th {\n",
       "        vertical-align: top;\n",
       "    }\n",
       "\n",
       "    .dataframe thead th {\n",
       "        text-align: right;\n",
       "    }\n",
       "</style>\n",
       "<table border=\"1\" class=\"dataframe\">\n",
       "  <thead>\n",
       "    <tr style=\"text-align: right;\">\n",
       "      <th></th>\n",
       "      <th>type</th>\n",
       "      <th>id</th>\n",
       "      <th>name</th>\n",
       "      <th>stationDHID</th>\n",
       "    </tr>\n",
       "  </thead>\n",
       "  <tbody>\n",
       "    <tr>\n",
       "      <th>0</th>\n",
       "      <td>stop</td>\n",
       "      <td>900037168</td>\n",
       "      <td>Berlin, Albrechtshof Bhf</td>\n",
       "      <td>de:11000:900037168</td>\n",
       "    </tr>\n",
       "    <tr>\n",
       "      <th>1</th>\n",
       "      <td>stop</td>\n",
       "      <td>900029305</td>\n",
       "      <td>Berlin, Staaken Bhf</td>\n",
       "      <td>de:11000:900029305</td>\n",
       "    </tr>\n",
       "    <tr>\n",
       "      <th>2</th>\n",
       "      <td>stop</td>\n",
       "      <td>900180008</td>\n",
       "      <td>Bahnhofstr./Lindenstr. (Berlin)</td>\n",
       "      <td>de:11000:900180008</td>\n",
       "    </tr>\n",
       "    <tr>\n",
       "      <th>3</th>\n",
       "      <td>stop</td>\n",
       "      <td>900180009</td>\n",
       "      <td>Bahnhofstr./Seelenbinderstr. (Berlin)</td>\n",
       "      <td>de:11000:900180009</td>\n",
       "    </tr>\n",
       "    <tr>\n",
       "      <th>4</th>\n",
       "      <td>stop</td>\n",
       "      <td>900170011</td>\n",
       "      <td>Barnimplatz (Berlin)</td>\n",
       "      <td>de:11000:900170011</td>\n",
       "    </tr>\n",
       "  </tbody>\n",
       "</table>\n",
       "</div>"
      ],
      "text/plain": [
       "   type         id                                   name         stationDHID\n",
       "0  stop  900037168               Berlin, Albrechtshof Bhf  de:11000:900037168\n",
       "1  stop  900029305                    Berlin, Staaken Bhf  de:11000:900029305\n",
       "2  stop  900180008        Bahnhofstr./Lindenstr. (Berlin)  de:11000:900180008\n",
       "3  stop  900180009  Bahnhofstr./Seelenbinderstr. (Berlin)  de:11000:900180009\n",
       "4  stop  900170011                   Barnimplatz (Berlin)  de:11000:900170011"
      ]
     },
     "execution_count": 48,
     "metadata": {},
     "output_type": "execute_result"
    }
   ],
   "source": [
    "newdf.head()"
   ]
  },
  {
   "cell_type": "code",
   "execution_count": null,
   "id": "d29a735f-5132-4f00-a4aa-8422b9afbf09",
   "metadata": {},
   "outputs": [],
   "source": [
    "##extracting different columns from the API response"
   ]
  },
  {
   "cell_type": "code",
   "execution_count": 39,
   "id": "971a9dbd-2f84-429a-ab7b-837568f246bf",
   "metadata": {},
   "outputs": [],
   "source": [
    "name = []\n",
    "for names in resp.json():\n",
    "    name.append(names['name'])\n",
    "    df_name = pd.DataFrame(name)\n",
    "    ##print(name)"
   ]
  },
  {
   "cell_type": "code",
   "execution_count": 38,
   "id": "50964a8d-acd1-43c5-bbf0-478c44ee34bc",
   "metadata": {},
   "outputs": [],
   "source": [
    "latitude = []\n",
    "for lat in resp.json():\n",
    "    latitude.append(lat['location']['latitude'])\n",
    "    df_latitude = pd.DataFrame(latitude)\n",
    "    ##print(latitude)"
   ]
  },
  {
   "cell_type": "code",
   "execution_count": 37,
   "id": "6c69c69a-7be8-49b4-895e-33ee250d1bcf",
   "metadata": {},
   "outputs": [],
   "source": [
    "products = []\n",
    "for prod in resp.json():\n",
    "    products.append(prod['products'])\n",
    "    df_products = pd.DataFrame(products)\n",
    "    ##print(products)"
   ]
  },
  {
   "cell_type": "code",
   "execution_count": 43,
   "id": "a531bcfb-5056-4a12-af6b-bf6c5f07e35e",
   "metadata": {},
   "outputs": [],
   "source": [
    "longitude = []\n",
    "for long in resp.json():\n",
    "    longitude.append(long['location']['longitude'])\n",
    "    df_longitude = pd.DataFrame(longitude)\n",
    "    ##print(longitude)"
   ]
  },
  {
   "cell_type": "code",
   "execution_count": 50,
   "id": "157b3427-ff85-4f8a-9f32-3dc94525a897",
   "metadata": {},
   "outputs": [],
   "source": [
    "newdf.to_csv('Cleanedapidata.csv', index=False)"
   ]
  },
  {
   "cell_type": "code",
   "execution_count": null,
   "id": "784f2512-312f-4776-93fd-7cf40ac47ea7",
   "metadata": {},
   "outputs": [],
   "source": []
  }
 ],
 "metadata": {
  "kernelspec": {
   "display_name": "Python 3 (ipykernel)",
   "language": "python",
   "name": "python3"
  },
  "language_info": {
   "codemirror_mode": {
    "name": "ipython",
    "version": 3
   },
   "file_extension": ".py",
   "mimetype": "text/x-python",
   "name": "python",
   "nbconvert_exporter": "python",
   "pygments_lexer": "ipython3",
   "version": "3.11.7"
  }
 },
 "nbformat": 4,
 "nbformat_minor": 5
}
